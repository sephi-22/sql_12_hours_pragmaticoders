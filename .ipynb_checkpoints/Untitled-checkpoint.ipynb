{
 "cells": [
  {
   "cell_type": "code",
   "execution_count": null,
   "id": "230673ba",
   "metadata": {},
   "outputs": [],
   "source": [
    "    from pyspark.sql import SparkSession\n",
    "    spark = SparkSession.builder \\\n",
    "      .master(\"local\") \\\n",
    "      .appName(\"parquet_example\") \\\n",
    "      .getOrCreate()\n",
    "    df = spark.read.csv('NYC311ServiceRequestsDate02112023Start34238001toEnd35139000', header = True)\n",
    "    df.repartition(1).write.mode('overwrite').parquet('tmp/pyspark_us_presidents')"
   ]
  }
 ],
 "metadata": {
  "kernelspec": {
   "display_name": "pyspark-env",
   "language": "python",
   "name": "pyspark-env"
  },
  "language_info": {
   "codemirror_mode": {
    "name": "ipython",
    "version": 3
   },
   "file_extension": ".py",
   "mimetype": "text/x-python",
   "name": "python",
   "nbconvert_exporter": "python",
   "pygments_lexer": "ipython3",
   "version": "3.11.5"
  }
 },
 "nbformat": 4,
 "nbformat_minor": 5
}
